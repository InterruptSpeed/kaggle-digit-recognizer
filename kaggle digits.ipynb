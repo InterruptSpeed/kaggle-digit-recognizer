{
 "cells": [
  {
   "cell_type": "markdown",
   "metadata": {},
   "source": [
    "load packages"
   ]
  },
  {
   "cell_type": "code",
   "execution_count": 1,
   "metadata": {},
   "outputs": [],
   "source": [
    "import numpy as np\n",
    "import pandas as pd\n",
    "\n",
    "from sklearn import svm, model_selection\n",
    "from sklearn.metrics import classification_report, confusion_matrix\n",
    "from sklearn.externals import joblib\n",
    "from sklearn.ensemble import RandomForestClassifier\n",
    "\n",
    "import matplotlib.pyplot as plt"
   ]
  },
  {
   "cell_type": "markdown",
   "metadata": {},
   "source": [
    "load and split kaggle training data"
   ]
  },
  {
   "cell_type": "code",
   "execution_count": 2,
   "metadata": {},
   "outputs": [],
   "source": [
    "df = pd.read_csv('data/train.csv')\n",
    "#arr = df.values\n",
    "\n",
    "X = df.loc[:, df.columns != 'label'].as_matrix().astype('uint8')\n",
    "Y = df.label.as_matrix().tolist()\n",
    "\n",
    "X_train, X_test, Y_train, Y_test = model_selection.train_test_split(X, Y, test_size=0.25)"
   ]
  },
  {
   "cell_type": "markdown",
   "metadata": {},
   "source": [
    "visualize first entry"
   ]
  },
  {
   "cell_type": "code",
   "execution_count": 3,
   "metadata": {},
   "outputs": [
    {
     "data": {
      "image/png": "[encoded data removed]",
      "text/plain": [
       "<matplotlib.figure.Figure at 0x1c4a7b4ef60>"
      ]
     },
     "metadata": {},
     "output_type": "display_data"
    },
    {
     "data": {
      "text/plain": [
       "6"
      ]
     },
     "execution_count": 3,
     "metadata": {},
     "output_type": "execute_result"
    }
   ],
   "source": [
    "plt.imshow(X_train[0].reshape(28,28), cmap=plt.cm.gray_r)\n",
    "plt.show()\n",
    "\n",
    "Y_train[0]"
   ]
  },
  {
   "cell_type": "markdown",
   "metadata": {},
   "source": [
    "train a linear support vector classifier and predict the labels of the test set"
   ]
  },
  {
   "cell_type": "code",
   "execution_count": 4,
   "metadata": {},
   "outputs": [],
   "source": [
    "clf = svm.LinearSVC()\n",
    "clf.fit(X_train, Y_train)\n",
    "\n",
    "predicted = clf.predict(X_test)\n",
    "#sorted(clf.cv_results_.keys())"
   ]
  },
  {
   "cell_type": "code",
   "execution_count": 7,
   "metadata": {},
   "outputs": [
    {
     "name": "stdout",
     "output_type": "stream",
     "text": [
      "Classification report for classifier LinearSVC(C=1.0, class_weight=None, dual=True, fit_intercept=True,\n",
      "     intercept_scaling=1, loss='squared_hinge', max_iter=1000,\n",
      "     multi_class='ovr', penalty='l2', random_state=None, tol=0.0001,\n",
      "     verbose=0):\n",
      "             precision    recall  f1-score   support\n",
      "\n",
      "          0       0.92      0.97      0.94      1039\n",
      "          1       0.93      0.93      0.93      1187\n",
      "          2       0.90      0.78      0.84      1037\n",
      "          3       0.83      0.87      0.85      1088\n",
      "          4       0.64      0.95      0.76      1021\n",
      "          5       0.93      0.60      0.73       951\n",
      "          6       0.91      0.93      0.92      1063\n",
      "          7       0.89      0.89      0.89      1106\n",
      "          8       0.70      0.87      0.78       963\n",
      "          9       0.88      0.55      0.68      1045\n",
      "\n",
      "avg / total       0.86      0.84      0.84     10500\n",
      "\n",
      "\n",
      "Confusion matrix:\n",
      "[[1004    2    1    7    4    2    9    2    7    1]\n",
      " [   1 1108    9    1    5    2    3    2   54    2]\n",
      " [  17   29  811   30   37    1   17   10   83    2]\n",
      " [   7    5   31  950   11    9    2   10   54    9]\n",
      " [   2    4   11    2  974    1    9    4    5    9]\n",
      " [  18    8    9   93   82  571   45   11  102   12]\n",
      " [  12    4    8    1   34    8  986    1    9    0]\n",
      " [   3    4   13   14   41    1    1  986    9   34]\n",
      " [  14   19    3   27   27   12   10    3  842    6]\n",
      " [  10    8    3   16  312    5    2   76   38  575]]\n"
     ]
    }
   ],
   "source": [
    "print(\"Classification report for classifier %s:\\n%s\\n\" % (clf, classification_report(Y_test, predicted)))\n",
    "print(\"Confusion matrix:\\n%s\" % confusion_matrix(Y_test, predicted))"
   ]
  },
  {
   "cell_type": "code",
   "execution_count": 8,
   "metadata": {},
   "outputs": [
    {
     "name": "stdout",
     "output_type": "stream",
     "text": [
      "Score: 0.838761904762\n"
     ]
    }
   ],
   "source": [
    "#print(svc.coef_)\n",
    "#print(svc.intercept_)\n",
    "print(\"Score: %s\" % clf.score(X_test, Y_test))"
   ]
  },
  {
   "cell_type": "markdown",
   "metadata": {},
   "source": [
    "save the model for later use"
   ]
  },
  {
   "cell_type": "code",
   "execution_count": 9,
   "metadata": {},
   "outputs": [
    {
     "data": {
      "text/plain": [
       "['mnist.model.sav']"
      ]
     },
     "execution_count": 9,
     "metadata": {},
     "output_type": "execute_result"
    }
   ],
   "source": [
    "joblib.dump(clf, 'mnist.model.sav')"
   ]
  },
  {
   "cell_type": "markdown",
   "metadata": {},
   "source": [
    "retrain the model by tuning the parameters"
   ]
  },
  {
   "cell_type": "code",
   "execution_count": 10,
   "metadata": {},
   "outputs": [
    {
     "name": "stdout",
     "output_type": "stream",
     "text": [
      "0.90546031746\n",
      "1e-06\n",
      "Score: 0.908285714286\n"
     ]
    }
   ],
   "source": [
    "Cs = np.logspace(-6, -1, 10)\n",
    "clf = model_selection.GridSearchCV(estimator=svm.LinearSVC(), param_grid=dict(C=Cs), n_jobs=-1)\n",
    "clf.fit(X_train, Y_train)\n",
    "print(clf.best_score_)\n",
    "print(clf.best_estimator_.C)\n",
    "\n",
    "print(\"Score: %s\" % clf.score(X_test, Y_test))"
   ]
  },
  {
   "cell_type": "code",
   "execution_count": 11,
   "metadata": {},
   "outputs": [
    {
     "name": "stdout",
     "output_type": "stream",
     "text": [
      "Classification report for classifier GridSearchCV(cv=None, error_score='raise',\n",
      "       estimator=LinearSVC(C=1.0, class_weight=None, dual=True, fit_intercept=True,\n",
      "     intercept_scaling=1, loss='squared_hinge', max_iter=1000,\n",
      "     multi_class='ovr', penalty='l2', random_state=None, tol=0.0001,\n",
      "     verbose=0),\n",
      "       fit_params=None, iid=True, n_jobs=-1,\n",
      "       param_grid={'C': array([  1.00000e-06,   3.59381e-06,   1.29155e-05,   4.64159e-05,\n",
      "         1.66810e-04,   5.99484e-04,   2.15443e-03,   7.74264e-03,\n",
      "         2.78256e-02,   1.00000e-01])},\n",
      "       pre_dispatch='2*n_jobs', refit=True, return_train_score='warn',\n",
      "       scoring=None, verbose=0):\n",
      "             precision    recall  f1-score   support\n",
      "\n",
      "          0       0.94      0.97      0.96      1039\n",
      "          1       0.94      0.97      0.95      1187\n",
      "          2       0.92      0.88      0.90      1037\n",
      "          3       0.89      0.89      0.89      1088\n",
      "          4       0.93      0.92      0.92      1021\n",
      "          5       0.90      0.82      0.86       951\n",
      "          6       0.94      0.96      0.95      1063\n",
      "          7       0.92      0.92      0.92      1106\n",
      "          8       0.84      0.86      0.85       963\n",
      "          9       0.86      0.88      0.87      1045\n",
      "\n",
      "avg / total       0.91      0.91      0.91     10500\n",
      "\n",
      "\n",
      "Confusion matrix:\n",
      "[[1010    0    1    3    2    2    9    0   10    2]\n",
      " [   0 1152    8    0    2    2    3    2   15    3]\n",
      " [  11   18  912   10    7    5   13   18   41    2]\n",
      " [   5    6   29  964    3   26    4   11   28   12]\n",
      " [   2    3   10    2  936    4    5    2   10   47]\n",
      " [  12   11    2   48   12  780   23    7   40   16]\n",
      " [   9    3    6    3    7   12 1018    0    4    1]\n",
      " [   5    5   14    5    6    3    3 1015    3   47]\n",
      " [   7   24    5   29    6   29    7    5  831   20]\n",
      " [  12    4    4   19   30    5    0   40   12  919]]\n"
     ]
    }
   ],
   "source": [
    "predicted = clf.predict(X_test)\n",
    "\n",
    "print(\"Classification report for classifier %s:\\n%s\\n\" % (clf, classification_report(Y_test, predicted)))\n",
    "print(\"Confusion matrix:\\n%s\" % confusion_matrix(Y_test, predicted))"
   ]
  },
  {
   "cell_type": "markdown",
   "metadata": {},
   "source": [
    "save the tuned model"
   ]
  },
  {
   "cell_type": "code",
   "execution_count": 12,
   "metadata": {},
   "outputs": [
    {
     "data": {
      "text/plain": [
       "['mnist.tunedmodel.sav']"
      ]
     },
     "execution_count": 12,
     "metadata": {},
     "output_type": "execute_result"
    }
   ],
   "source": [
    "joblib.dump(clf, 'mnist.tunedmodel.sav')"
   ]
  },
  {
   "cell_type": "markdown",
   "metadata": {},
   "source": [
    "train a model using random forest classifier"
   ]
  },
  {
   "cell_type": "code",
   "execution_count": 14,
   "metadata": {},
   "outputs": [
    {
     "name": "stdout",
     "output_type": "stream",
     "text": [
      "{'max_features': 'sqrt', 'n_estimators': 700}\n",
      "Score: 0.96780952381\n"
     ]
    }
   ],
   "source": [
    "rfc = RandomForestClassifier(n_estimators=50, n_jobs=-1, max_features='sqrt', oob_score=True)\n",
    "param_grid = { \n",
    "    'n_estimators': [200, 700],\n",
    "    'max_features': ['auto', 'sqrt', 'log2']\n",
    "}\n",
    "clf = model_selection.GridSearchCV(estimator=rfc, param_grid=param_grid, cv= 5)\n",
    "clf.fit(X_train, Y_train)\n",
    "print(clf.best_params_)\n",
    "\n",
    "clf.fit(X_train,Y_train)\n",
    "\n",
    "print(\"Score: %s\" % clf.score(X_test, Y_test))"
   ]
  },
  {
   "cell_type": "code",
   "execution_count": 15,
   "metadata": {},
   "outputs": [
    {
     "name": "stdout",
     "output_type": "stream",
     "text": [
      "Classification report for classifier GridSearchCV(cv=5, error_score='raise',\n",
      "       estimator=RandomForestClassifier(bootstrap=True, class_weight=None, criterion='gini',\n",
      "            max_depth=None, max_features='sqrt', max_leaf_nodes=None,\n",
      "            min_impurity_decrease=0.0, min_impurity_split=None,\n",
      "            min_samples_leaf=1, min_samples_split=2,\n",
      "            min_weight_fraction_leaf=0.0, n_estimators=50, n_jobs=-1,\n",
      "            oob_score=True, random_state=None, verbose=0, warm_start=False),\n",
      "       fit_params=None, iid=True, n_jobs=1,\n",
      "       param_grid={'n_estimators': [200, 700], 'max_features': ['auto', 'sqrt', 'log2']},\n",
      "       pre_dispatch='2*n_jobs', refit=True, return_train_score='warn',\n",
      "       scoring=None, verbose=0):\n",
      "             precision    recall  f1-score   support\n",
      "\n",
      "          0       0.98      0.99      0.98      1039\n",
      "          1       0.98      0.98      0.98      1187\n",
      "          2       0.95      0.97      0.96      1037\n",
      "          3       0.96      0.95      0.95      1088\n",
      "          4       0.97      0.98      0.97      1021\n",
      "          5       0.98      0.96      0.97       951\n",
      "          6       0.98      0.99      0.98      1063\n",
      "          7       0.98      0.96      0.97      1106\n",
      "          8       0.96      0.96      0.96       963\n",
      "          9       0.95      0.95      0.95      1045\n",
      "\n",
      "avg / total       0.97      0.97      0.97     10500\n",
      "\n",
      "\n",
      "Confusion matrix:\n",
      "[[1026    0    1    0    1    1    3    0    7    0]\n",
      " [   0 1168    8    2    2    1    2    2    2    0]\n",
      " [   4    5 1002    3    6    0    4    5    8    0]\n",
      " [   3    2   17 1030    0    8    3    7   11    7]\n",
      " [   1    0    1    1  997    0    3    1    3   14]\n",
      " [   3    1    1   12    1  917    9    1    2    4]\n",
      " [   2    2    1    0    1    4 1052    0    1    0]\n",
      " [   1    4   19    2    7    0    0 1060    2   11]\n",
      " [   2    4    3   10    3    3    2    1  922   13]\n",
      " [   9    2    0   18   12    1    0   10    5  988]]\n"
     ]
    }
   ],
   "source": [
    "predicted = clf.predict(X_test)\n",
    "\n",
    "print(\"Classification report for classifier %s:\\n%s\\n\" % (clf, classification_report(Y_test, predicted)))\n",
    "print(\"Confusion matrix:\\n%s\" % confusion_matrix(Y_test, predicted))"
   ]
  },
  {
   "cell_type": "code",
   "execution_count": 16,
   "metadata": {},
   "outputs": [
    {
     "data": {
      "text/plain": [
       "['mnist.randomforestmodel.sav']"
      ]
     },
     "execution_count": 16,
     "metadata": {},
     "output_type": "execute_result"
    }
   ],
   "source": [
    "joblib.dump(clf, 'mnist.randomforestmodel.sav')"
   ]
  },
  {
   "cell_type": "markdown",
   "metadata": {},
   "source": [
    "load the trained model and the kaggle sample set then visualize the first entry"
   ]
  },
  {
   "cell_type": "code",
   "execution_count": 17,
   "metadata": {},
   "outputs": [],
   "source": [
    "clf2 = joblib.load('mnist.randomforestmodel.sav')\n",
    "\n",
    "df = pd.read_csv('data/test.csv')\n",
    "X_sample = df.values"
   ]
  },
  {
   "cell_type": "code",
   "execution_count": 18,
   "metadata": {},
   "outputs": [
    {
     "data": {
      "image/png": "[encoded data removed]",
      "text/plain": [
       "<matplotlib.figure.Figure at 0x1c4800e4d68>"
      ]
     },
     "metadata": {},
     "output_type": "display_data"
    }
   ],
   "source": [
    "plt.imshow(X_sample[0].reshape(28,28), cmap=plt.cm.gray_r)\n",
    "plt.show()"
   ]
  },
  {
   "cell_type": "markdown",
   "metadata": {},
   "source": [
    "predict the labels for the kaggle sample set"
   ]
  },
  {
   "cell_type": "code",
   "execution_count": 19,
   "metadata": {},
   "outputs": [
    {
     "data": {
      "text/plain": [
       "array([2, 0, 9, ..., 3, 9, 2])"
      ]
     },
     "execution_count": 19,
     "metadata": {},
     "output_type": "execute_result"
    }
   ],
   "source": [
    "Y_sample = clf2.predict(X_sample)\n",
    "Y_sample"
   ]
  },
  {
   "cell_type": "markdown",
   "metadata": {},
   "source": [
    "structure kaggle submission according to requirements"
   ]
  },
  {
   "cell_type": "code",
   "execution_count": 20,
   "metadata": {},
   "outputs": [],
   "source": [
    "index = [i for i in range(1, len(Y_sample)+1)]\n",
    "index\n",
    "df = pd.DataFrame(Y_sample, index=index, columns=[\"Label\"])\n",
    "df.index.name = \"ImageId\"\n",
    "\n",
    "df.to_csv('data/result.csv')"
   ]
  },
  {
   "cell_type": "code",
   "execution_count": null,
   "metadata": {},
   "outputs": [],
   "source": []
  }
 ],
 "metadata": {
  "kernelspec": {
   "display_name": "Python 3",
   "language": "python",
   "name": "python3"
  },
  "language_info": {
   "codemirror_mode": {
    "name": "ipython",
    "version": 3
   },
   "file_extension": ".py",
   "mimetype": "text/x-python",
   "name": "python",
   "nbconvert_exporter": "python",
   "pygments_lexer": "ipython3",
   "version": "3.6.3"
  }
 },
 "nbformat": 4,
 "nbformat_minor": 2
}
